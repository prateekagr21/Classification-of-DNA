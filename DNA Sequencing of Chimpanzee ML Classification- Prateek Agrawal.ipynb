{
 "cells": [
  {
   "cell_type": "markdown",
   "metadata": {},
   "source": [
    "# DNA Sequencing of Chimpanzee ML classification\n",
    "## DNA Classifier using NLP\n",
    "### A classification model which can predict gene's function of a Chimpanzee based on DNA Sequence"
   ]
  },
  {
   "cell_type": "code",
   "execution_count": 1,
   "metadata": {},
   "outputs": [],
   "source": [
    "import numpy as np\n",
    "import pandas as pd\n",
    "import matplotlib.pyplot as plt\n",
    "%matplotlib inline"
   ]
  },
  {
   "cell_type": "markdown",
   "metadata": {},
   "source": [
    "### Reading Data"
   ]
  },
  {
   "cell_type": "code",
   "execution_count": 4,
   "metadata": {},
   "outputs": [],
   "source": [
    "chimp_data = pd.read_table(\"DNA Chimpanzee data.txt\")"
   ]
  },
  {
   "cell_type": "code",
   "execution_count": 5,
   "metadata": {},
   "outputs": [
    {
     "data": {
      "text/html": [
       "<div>\n",
       "<style scoped>\n",
       "    .dataframe tbody tr th:only-of-type {\n",
       "        vertical-align: middle;\n",
       "    }\n",
       "\n",
       "    .dataframe tbody tr th {\n",
       "        vertical-align: top;\n",
       "    }\n",
       "\n",
       "    .dataframe thead th {\n",
       "        text-align: right;\n",
       "    }\n",
       "</style>\n",
       "<table border=\"1\" class=\"dataframe\">\n",
       "  <thead>\n",
       "    <tr style=\"text-align: right;\">\n",
       "      <th></th>\n",
       "      <th>sequence</th>\n",
       "      <th>class</th>\n",
       "    </tr>\n",
       "  </thead>\n",
       "  <tbody>\n",
       "    <tr>\n",
       "      <th>0</th>\n",
       "      <td>ATGCCCCAACTAAATACCGCCGTATGACCCACCATAATTACCCCCA...</td>\n",
       "      <td>4</td>\n",
       "    </tr>\n",
       "    <tr>\n",
       "      <th>1</th>\n",
       "      <td>ATGAACGAAAATCTATTCGCTTCATTCGCTGCCCCCACAATCCTAG...</td>\n",
       "      <td>4</td>\n",
       "    </tr>\n",
       "    <tr>\n",
       "      <th>2</th>\n",
       "      <td>ATGGCCTCGCGCTGGTGGCGGTGGCGACGCGGCTGCTCCTGGAGGC...</td>\n",
       "      <td>4</td>\n",
       "    </tr>\n",
       "    <tr>\n",
       "      <th>3</th>\n",
       "      <td>ATGGCCTCGCGCTGGTGGCGGTGGCGACGCGGCTGCTCCTGGAGGC...</td>\n",
       "      <td>4</td>\n",
       "    </tr>\n",
       "    <tr>\n",
       "      <th>4</th>\n",
       "      <td>ATGGGCAGCGCCAGCCCGGGTCTGAGCAGCGTGTCCCCCAGCCACC...</td>\n",
       "      <td>6</td>\n",
       "    </tr>\n",
       "  </tbody>\n",
       "</table>\n",
       "</div>"
      ],
      "text/plain": [
       "                                            sequence  class\n",
       "0  ATGCCCCAACTAAATACCGCCGTATGACCCACCATAATTACCCCCA...      4\n",
       "1  ATGAACGAAAATCTATTCGCTTCATTCGCTGCCCCCACAATCCTAG...      4\n",
       "2  ATGGCCTCGCGCTGGTGGCGGTGGCGACGCGGCTGCTCCTGGAGGC...      4\n",
       "3  ATGGCCTCGCGCTGGTGGCGGTGGCGACGCGGCTGCTCCTGGAGGC...      4\n",
       "4  ATGGGCAGCGCCAGCCCGGGTCTGAGCAGCGTGTCCCCCAGCCACC...      6"
      ]
     },
     "execution_count": 5,
     "metadata": {},
     "output_type": "execute_result"
    }
   ],
   "source": [
    "chimp_data.head()"
   ]
  },
  {
   "cell_type": "markdown",
   "metadata": {},
   "source": [
    "# Now, to work with this dna sequence,\n",
    "#### we will be treating this DNA sequence as 'Language'  and for that, we will be using 'k-mer counting'"
   ]
  },
  {
   "cell_type": "code",
   "execution_count": 6,
   "metadata": {},
   "outputs": [],
   "source": [
    "## Converting above sequence into k-mer words \n",
    "## here, 6 - hexa-mer words\n",
    "\n",
    "def getKmers(sequence, size=6):\n",
    "    return [sequence[x:x+size].lower() for x in range(len(sequence) - size + 1)]"
   ]
  },
  {
   "cell_type": "code",
   "execution_count": 7,
   "metadata": {},
   "outputs": [],
   "source": [
    "chimp_data['words'] = chimp_data.apply(lambda x: getKmers(x['sequence']), axis=1)\n",
    "\n",
    "chimp_data = chimp_data.drop('sequence', axis=1)"
   ]
  },
  {
   "cell_type": "code",
   "execution_count": 8,
   "metadata": {},
   "outputs": [
    {
     "data": {
      "text/html": [
       "<div>\n",
       "<style scoped>\n",
       "    .dataframe tbody tr th:only-of-type {\n",
       "        vertical-align: middle;\n",
       "    }\n",
       "\n",
       "    .dataframe tbody tr th {\n",
       "        vertical-align: top;\n",
       "    }\n",
       "\n",
       "    .dataframe thead th {\n",
       "        text-align: right;\n",
       "    }\n",
       "</style>\n",
       "<table border=\"1\" class=\"dataframe\">\n",
       "  <thead>\n",
       "    <tr style=\"text-align: right;\">\n",
       "      <th></th>\n",
       "      <th>class</th>\n",
       "      <th>words</th>\n",
       "    </tr>\n",
       "  </thead>\n",
       "  <tbody>\n",
       "    <tr>\n",
       "      <th>0</th>\n",
       "      <td>4</td>\n",
       "      <td>[atgccc, tgcccc, gcccca, ccccaa, cccaac, ccaac...</td>\n",
       "    </tr>\n",
       "    <tr>\n",
       "      <th>1</th>\n",
       "      <td>4</td>\n",
       "      <td>[atgaac, tgaacg, gaacga, aacgaa, acgaaa, cgaaa...</td>\n",
       "    </tr>\n",
       "    <tr>\n",
       "      <th>2</th>\n",
       "      <td>4</td>\n",
       "      <td>[atggcc, tggcct, ggcctc, gcctcg, cctcgc, ctcgc...</td>\n",
       "    </tr>\n",
       "    <tr>\n",
       "      <th>3</th>\n",
       "      <td>4</td>\n",
       "      <td>[atggcc, tggcct, ggcctc, gcctcg, cctcgc, ctcgc...</td>\n",
       "    </tr>\n",
       "    <tr>\n",
       "      <th>4</th>\n",
       "      <td>6</td>\n",
       "      <td>[atgggc, tgggca, gggcag, ggcagc, gcagcg, cagcg...</td>\n",
       "    </tr>\n",
       "  </tbody>\n",
       "</table>\n",
       "</div>"
      ],
      "text/plain": [
       "   class                                              words\n",
       "0      4  [atgccc, tgcccc, gcccca, ccccaa, cccaac, ccaac...\n",
       "1      4  [atgaac, tgaacg, gaacga, aacgaa, acgaaa, cgaaa...\n",
       "2      4  [atggcc, tggcct, ggcctc, gcctcg, cctcgc, ctcgc...\n",
       "3      4  [atggcc, tggcct, ggcctc, gcctcg, cctcgc, ctcgc...\n",
       "4      6  [atgggc, tgggca, gggcag, ggcagc, gcagcg, cagcg..."
      ]
     },
     "execution_count": 8,
     "metadata": {},
     "output_type": "execute_result"
    }
   ],
   "source": [
    "chimp_data.head()"
   ]
  },
  {
   "cell_type": "markdown",
   "metadata": {},
   "source": [
    "### Now, we will be converting k-mers for each gene into string\n",
    "#### So that it countvectorizer can be applied."
   ]
  },
  {
   "cell_type": "code",
   "execution_count": 10,
   "metadata": {},
   "outputs": [],
   "source": [
    "chimp_texts = list(chimp_data['words'])\n",
    "\n",
    "for item in range(len(chimp_texts)):\n",
    "    chimp_texts[item] = ' '.join(chimp_texts[item])\n",
    "    \n",
    "y_chimp = chimp_data.iloc[:, 0].values "
   ]
  },
  {
   "cell_type": "code",
   "execution_count": 24,
   "metadata": {},
   "outputs": [
    {
     "name": "stdout",
     "output_type": "stream",
     "text": [
      "atgccc tgcccc gcccca ccccag cccagc ccagct cagctc agctcg gctcgg ctcggc tcggcg cggcgg ggcggc gcggcg cggcgg ggcggg gcgggg cggggg gggggc ggggcg gggcgg ggcggc gcggcg cggcgg ggcggc gcggcg cggcgg ggcggc gcggcg cggcgg ggcggc gcggcg cggcgg ggcggc gcggca cggcag ggcagc gcagcg cagcgg agcggg gcgggg cggggg ggggga ggggag gggagg ggaggc gaggcg aggcgg ggcggc gcggcg cggcgg ggcggc gcggct cggctc ggctcc gctcca ctccag tccagc ccagcg cagcgc agcgcc gcgccg cgccgg gccggg ccgggg cggggc ggggcg gggcgg ggcggc gcggcc cggccg ggccgg gccggc ccggcg cggcgg ggcgga gcggag cggagg ggaggg gagggg agggga ggggac gggacg ggacga gacgac acgacc cgacct gacctc acctcg cctcgg ctcggg tcgggg cggggc ggggcg gggcga ggcgaa gcgaac cgaacg gaacga aacgac acgacg cgacga gacgag acgagc cgagct gagctg agctga gctgat ctgatc tgatcc gatccc atcccc tcccct cccctt cccttc ccttcc cttcca ttccag tccagg ccagga caggac aggacg ggacga gacgag acgagg cgaggg gagggg aggggg gggggg gggggc ggggcg gggcga ggcgag gcgagg cgagga gaggag aggagc ggagca gagcag agcagg gcagga caggag aggagc ggagcc gagccg agccga gccgag ccgagc cgagca gagcag agcagc gcagcg cagcga agcgat gcgata cgatag gatagc atagcg tagcgc agcgcc gcgcct cgcctc gcctcg cctcgg ctcggc tcggcg cggcgc ggcgca gcgcag cgcagc gcagcg cagcgg agcggg gcggga cgggac gggacc ggacct gaccta acctag cctaga ctagac tagacg agacga gacgag acgagg cgaggt gaggtc aggtca ggtcaa gtcaag tcaagt caagtc aagtcg agtcgt gtcgtc tcgtcc cgtccc gtccct tccctg ccctgg cctggt ctggtc tggtca ggtcaa gtcaac tcaacg caacga aacgag acgagt cgagtc gagtcg agtcgg gtcgga tcggag cggaga ggagaa gagaac agaacc gaacca aaccag accaga ccagag cagagc agagca gagcag agcagc gcagca cagcag agcagc gcagct cagctc agctcg gctcgg ctcgga tcggac cggact ggactc gactcg actcgg ctcgga tcggag cggagg ggaggc gaggcg aggcgg ggcgga gcggag cggaga ggagag gagagg agaggc gaggcg aggcgc ggcgcc gcgccc cgcccg gcccgc cccgca ccgcag cgcagc gcagcc cagccc agcccg gcccgc cccgcc ccgccc cgcccg gcccgg cccggg ccggga cgggac gggaca ggacac gacact acactt cacttt actttc ctttcc tttcca ttccag tccaga ccagaa cagaag agaagc gaagcc aagccg agccgc gccgcg ccgcgg cgcggg gcggga cgggac gggact ggacta gactat actatt ctattt tatttc atttcg tttcgc ttcgcc tcgccg cgccga gccgaa ccgaag cgaagt gaagtg aagtga agtgag gtgaga tgagaa gagaag agaagg gaaggc aaggcc aggccc ggcccc gcccca ccccag cccagg ccagga caggac aggaca ggacag gacagc acagcg cagcgc agcgcg gcgcgt cgcgtt gcgttc cgttct gttctt ttcttt tcttta ctttaa tttaaa ttaaag taaagg aaagga aaggac aggacc ggaccc gacccc accccc cccccg ccccgt cccgta ccgtat cgtatc gtatcc tatcct atcctg tcctgg cctggg ctgggt tgggta gggtac ggtacc gtaccc tacccc acccct cccctt cccttt cctttc ctttct tttctg ttctga tctgat ctgatg tgatga gatgat atgatc tgatcc gatccc atcccg tcccgg cccgga ccggac cggacc ggacct gacctg acctga cctgag ctgagc tgagca gagcag agcagc gcagcc cagccc agcccg gcccgt cccgta ccgtac cgtacc gtacct tacctc acctct cctctc ctctcc tctcca ctccaa tccaac ccaacg caacgg aacgga acggac cggacc ggaccc gacccc acccct cccctg ccctgt cctgtc ctgtct tgtctc gtctcc tctccc ctcccg tcccgg cccgga ccggag cggagg ggagga gaggag aggagc ggagcg gagcgc agcgcg gcgcgc cgcgca gcgcac cgcacc gcacct caccta acctac cctacc ctacct tacctg acctgc cctgca ctgcag tgcaga gcagat cagatg agatga gatgaa atgaaa tgaaat gaaatg aaatgg aatggc atggcc tggccc ggcccc gcccct cccctc ccctcc cctcct ctcctc tcctcg cctcga ctcgat tcgatg cgatgt gatgtc atgtcc tgtccc gtcccc tcccct cccctc ccctcc cctcca ctccag tccagc ccagcg cagcgc agcgcc gcgcca cgccac gccaca ccacag cacagt acagtc cagtca agtcaa gtcaag tcaagg caagga aaggac aggaca ggacac gacacg acacga cacgag acgagg cgaggt gaggtc aggtca ggtcac gtcacc tcacca caccat accatc ccatct catctc atctcc tctcca ctccag tccagc ccagca cagcac agcaca gcacac cacact acactt cacttg acttgt cttgtc ttgtct tgtcta gtctaa tctaat ctaata taataa aataaa ataaag taaagt aaagtt aagttc agttcc gttcct ttcctg tcctgt cctgtc ctgtcg tgtcgt gtcgtt tcgttc cgttca gttcag ttcagc tcagca cagcac agcacc gcaccc cacccg acccgc cccgca ccgcat cgcatc gcatca catcac atcaca tcacat cacatg acatgc catgca atgcat tgcatc gcatcc catccg atccgc tccgct ccgctg cgctga gctgac ctgact tgactc gactcc actccc ctcccc tcccct cccctc ccctca cctcat ctcatc tcatca catcac atcacc tcacct caccta acctac cctaca ctacag tacagc acagca cagcaa agcaat gcaatg caatga aatgac atgacc tgacca gaccac accact ccactt cacttc acttct cttctc ttctcc tctccc ctcccc tccccc cccccg ccccgg cccggc ccggct cggctc ggctcc gctccc ctcccc tcccct cccctc ccctcc cctccc ctccca tcccac cccacc ccaccc caccca acccac cccacc ccacct cacctc acctct cctctc ctctcc tctccc ctcccc tcccca ccccag cccaga ccagag cagaga agagat gagatc agatcg gatcga atcgat tcgatc cgatcc gatcca atccaa tccaaa ccaaag caaaga aaagac aagaca agacag gacagg acagga caggaa aggaat ggaatc gaatcc aatccc atcccc tccccc cccccg ccccgg cccggc ccggcc cggccc ggcccc gccccc ccccct cccctc ccctca cctcac ctcacc tcaccc caccca acccat cccatc ccatcc catccg atccga tccgag ccgagc cgagct gagctg agctgt gctgtc ctgtca tgtcac gtcacc tcaccg caccgt accgta ccgtat cgtatt gtatta tattac attacc ttaccc taccca acccac cccact ccactc cactct actctc ctctct tctctc ctctcc tctccc ctcccg tcccgg cccgga ccggag cggagc ggagct gagctg agctgt gctgtc ctgtcg tgtcgg gtcgga tcggac cggaca ggacaa gacaaa acaaat caaatc aaatcc aatccc atcccc tccccc ccccca ccccac cccacc ccaccc cacccc accccc ccccct cccctc ccctcg cctcgg ctcggc tcggct cggctg ggctgg gctggc ctggct tggctc ggctcg gctcgt ctcgtc tcgtcc cgtccc gtccca tcccac cccaca ccacag cacagc acagca cagcaa agcaag gcaagg caaggc aaggcc aggcca ggccag gccagc ccagcc cagccc agccca gcccat cccatg ccatgt catgta atgtac tgtact gtactc tactcc actccc ctccct tccctt cccttc ccttcc cttcct ttcctc tcctcc cctcct ctcctg tcctgg cctggt ctggtg tggtgg ggtggc gtggct tggctt ggcttc gcttcc cttccg ttccgg tccggc ccggca cggcac ggcacc gcaccc caccct accctt ccctta ccttac cttacc ttaccc tacccc accccg ccccgc cccgcc ccgccc cgccct gccctc ccctcg cctcgc ctcgcc tcgcca cgccat gccatg ccatga catgaa atgaac tgaacg gaacgc aacgcc acgcct cgcctc gcctcg cctcga ctcgat tcgatg cgatgt gatgtc atgtcc tgtcca gtccag tccagc ccagcc cagcct agcctg gcctgg cctggt ctggtc tggtct ggtctc gtctcc tctcca ctccag tccagt ccagtc cagtcg agtcgg gtcggt tcggtt cggttc ggttct gttctc ttctct tctctc ctctcc tctcct ctcctc tcctca cctcac ctcaca tcacat cacatg acatgg catggt atggtg tggtgg ggtggc gtggct tggctc ggctcc gctccc ctcccg tcccgc cccgcc ccgccc cgccca gcccac cccacc ccaccc caccct accctg ccctgg cctggc ctggcc tggcct ggcctg gcctgc cctgcc ctgccc tgccca gcccac cccacc ccacct cacctc acctca cctcag ctcagg tcaggg caggga agggat gggatc ggatcc gatccc atcccc tccccc ccccca ccccac cccacc ccaccc caccct accctg ccctgc cctgcc ctgcca tgccat gccatc ccatcg catcgt atcgtc tcgtct cgtctc gtctcc tctccc ctcccc tccccc ccccca ccccat cccatc ccatcg catcgt atcgtc tcgtca cgtcaa gtcaag tcaagc caagca aagcag agcagg gcagga caggaa aggaac ggaacc gaaccg aaccgg accggc ccggca cggcac ggcacc gcaccc cacccc accccc cccccc ccccca ccccag cccagc ccagcc cagcct agcctg gcctga cctgag ctgagc tgagcc gagccc agccct gccctg ccctgc cctgca ctgcag tgcagt gcagtg cagtga agtgag gtgagc tgagcg gagcgt agcgtg gcgtga cgtgaa gtgaaa tgaaat gaaatc aaatca aatcac atcacc tcacca caccag accagt ccagtc cagtca agtcac gtcacc tcaccg caccgt accgtg ccgtga cgtgaa gtgaaa tgaaaa gaaaaa aaaaag aaaagg aaagga aaggag aggagg ggagga gaggaa aggaag ggaaga gaagaa aagaaa agaaaa gaaaag aaaaga aaagaa aagaag agaagc gaagcc aagccc agcccc gcccca ccccac cccacg ccacgt cacgtg acgtga cgtgaa gtgaag tgaaga gaagaa aagaag agaagc gaagcc aagcct agcctc gcctct cctctg ctctga tctgaa ctgaat tgaatg gaatgc aatgcc atgcct tgcctt gccttc ccttca cttcat ttcatg tcatgt catgtt atgttg tgttgt gttgta ttgtat tgtata gtatat tatatg atatga tatgaa atgaag tgaagg gaagga aaggag aggaga ggagat gagatg agatga gatgag atgagg tgaggg gagggc agggcc gggcca ggccaa gccaag ccaagg caaggt aaggtg aggtgg ggtggt gtggtg tggtgg ggtggc gtggct tggctg ggctga gctgag ctgagt tgagtg gagtgc agtgca gtgcac tgcacc gcaccc caccct accctg ccctga cctgaa ctgaag tgaagg gaagga aaggaa aggaaa ggaaag gaaagt aaagtg aagtgc agtgca gtgcag tgcagc gcagcc cagcca agccat gccatt ccatta cattaa attaac ttaacc taacca aaccag accaga ccagat cagatc agatcc gatcct atcctt tccttg ccttgg cttgga ttggaa tggaag ggaaga gaagaa aagaaa agaaag gaaagt aaagtg aagtgg agtggc gtggca tggcac ggcaca gcacaa cacaac acaacc caacct aacctg acctgt cctgtc ctgtct tgtctc gtctcg tctcgg ctcggg tcggga cgggaa gggaag ggaaga gaagaa aagaac agaaca gaacag aacagg acaggc caggcc aggcca ggccaa gccaag ccaagt caagta aagtac agtact gtacta tactac actacg ctacga tacgag acgagc cgagct gagctg agctgg gctggc ctggcc tggccc ggcccg gcccgg cccgga ccggaa cggaag ggaagg gaagga aaggag aggagc ggagcg gagcgg agcggc gcggca cggcag ggcagc gcagct cagctt agcttc gcttca cttcac ttcact tcactc cactcg actcgc ctcgca tcgcag cgcagc gcagct cagctc agctct gctcta ctctac tctacc ctaccc taccca acccaa cccaac ccaacc caacct aacctg acctgg cctggt ctggtc tggtca ggtcag gtcagc tcagcc cagccc agcccg gcccgg cccggg ccggga cgggac gggaca ggacaa gacaac acaact caacta aactat actatg ctatgg tatggt atggta tggtaa ggtaag gtaaga taagaa aagaaa agaaaa gaaaaa aaaaag aaaaga aaagaa aagaag agaaga gaagag aagagg agagga gaggaa aggaag ggaaga gaagag aagaga agagag gagaga agagaa gagaaa agaaaa gaaaag aaaagc aaagca aagcag agcagc gcagct cagctg agctgt gctgtc ctgtcc tgtccc gtccca tcccag cccaga ccagac cagaca agacac gacaca acacag cacagt acagtc cagtca agtcac gtcaca tcacag cacagc acagca cagcag agcagc gcagca cagcaa agcaag gcaagt caagtc aagtcc agtcca gtccag tccagg ccagga caggag aggagg ggaggc gaggca aggcag ggcaga gcagag cagagg agaggg gagggt agggtg gggtgc ggtgcc gtgccc tgccct gccctg ccctgg cctggc ctggcc tggcct ggcctc gcctcc cctcca ctccaa tccaag ccaaga caagag aagagc agagca gagcaa agcaag gcaaga caagaa aagaag agaagc gaagcc aagcca agccat gccatg ccatgt catgtg atgtgt tgtgtt gtgttc tgttca gttcag ttcagt tcagta cagtac agtacc gtacct tacctg acctgc cctgcc ctgccc tgcccc gccccc cccccc cccccg ccccga cccgag ccgaga cgagaa gagaag agaagc gaagcc aagccc agccct gccctg ccctgt cctgtg ctgtga tgtgac gtgaca tgacag gacagc acagcc cagccc agccct gccctg ccctgc cctgcc ctgcct tgcctc gcctcc cctcct ctcctc tcctcc cctccc ctccca tcccac cccacg ccacgg cacggg acggga cgggag gggagc ggagca gagcat agcatg gcatgc catgct atgctg tgctgg gctgga ctggac tggact ggactc gactcc actccc ctcccc tccccg ccccgg cccggc ccggcc cggcca ggccac gccact ccactc cactcc actccc ctccct tccctc ccctct cctctg ctctgc tctgca ctgcag tgcagc gcagct cagctt agcttt gctttg ctttgg tttggc ttggcc tggcct ggcctc gcctca cctcac ctcacc tcacca caccag accagc ccagct cagctg agctgc gctgcc ctgccc tgcccc gcccct cccctg ccctgc cctgct ctgctg tgctgc gctgcc ctgcca tgccac gccacc ccaccc caccca acccat cccatt ccattc cattcg attcgg ttcgga tcggag cggagc ggagca gagcaa agcaag gcaagc caagcc aagccc agccca gcccag cccagc ccagcc cagccc agcccc gcccct cccctc ccctct cctctc ctctcc tctccc ctccct tccctc ccctca cctcac ctcacc tcacca caccac accacc ccacca caccaa accaaa ccaaac caaacc aaacca aaccag accaga ccagaa cagaaa agaaac gaaacc aaaccc aacccg acccgg cccggg ccgggc cgggcc gggccc ggccca gcccag cccagc ccagct cagctg agctgg gctggc ctggct tggctc ggctct gctctc ctctcc tctcca ctccac tccact ccactc cactct actctg ctctgc tctgcc ctgccg tgccgc gccgcc ccgcct cgcctt gccttc ccttcc cttcct ttcctg tcctgt cctgtc ctgtcg tgtcgg gtcggc tcggct cggcta ggctaa gctaag ctaagg taaggc aaggct aggctg ggctgc gctgca ctgcag tgcagc gcagcc cagcct agcctc gcctcc cctcct ctcctc tcctcc cctcct ctcctc tcctct cctctg ctctgg tctggg ctgggc tgggca gggcag ggcaga gcagat cagatg agatgg gatggg atgggc tgggca gggcag ggcagc gcagcc cagcca agccag gccagc ccagcc cagcct agcctc gcctcc cctccc ctcccc tcccct cccctc ccctcc cctcct ctcctg tcctgt cctgtc ctgtcc tgtccc gtcccg tcccgg cccggc ccggcc cggccc ggcccc gcccct cccctc ccctcc cctccc ctcccc tccccc ccccct cccctt cccttg ccttgg cttggg ttgggt tgggtc gggtcc ggtcca gtccat tccatg ccatgc catgcc atgccc tgccca gcccac cccaca ccacag cacagc acagct cagctc agctct gctctg ctctgc tctgct ctgctg tgctgg gctggc ctggcc tggcct ggcctc gcctct cctctc ctctcc tctccc ctcccc tccccc cccccg ccccgt cccgtc ccgtcc cgtcct gtcctt tccttc ccttcc cttccc ttcccc tccccg ccccgc cccgcc ccgcca cgccac gccaca ccacac cacact acactc cactcc actcca ctccat tccatg ccatgc catgcc atgccc tgccca gcccac cccacc ccacca caccag accagg ccaggc caggcc aggccc ggccct gccctc ccctcc cctccc ctcccg tcccgg cccggt ccggtg cggtgc ggtgct gtgcta tgctac gctaca ctacag tacagg acaggc caggcc aggccc ggccca gcccag cccagc ccagcc cagcct agcctc gcctct cctctt ctcttt tctttc ctttcc tttccc ttccct tccctg ccctgg cctggt ctggtc tggtca ggtcac gtcacc tcacca caccaa accaag ccaagt caagtc aagtct agtctg gtctgc tctgcc ctgccc tgccca gcccac cccact ccacta cactaa\n"
     ]
    }
   ],
   "source": [
    "print(chimp_texts[7])"
   ]
  },
  {
   "cell_type": "code",
   "execution_count": 26,
   "metadata": {},
   "outputs": [
    {
     "data": {
      "text/plain": [
       "array([4, 4, 4, ..., 6, 3, 3], dtype=int64)"
      ]
     },
     "execution_count": 26,
     "metadata": {},
     "output_type": "execute_result"
    }
   ],
   "source": [
    "y_chimp"
   ]
  },
  {
   "cell_type": "markdown",
   "metadata": {},
   "source": [
    "### Now, Bag of Words \n",
    "#### Using Count vectorizer - NLP"
   ]
  },
  {
   "cell_type": "code",
   "execution_count": 28,
   "metadata": {},
   "outputs": [],
   "source": [
    "from sklearn.feature_extraction.text import CountVectorizer\n",
    "\n",
    "cv = CountVectorizer(ngram_range=(4,4))\n",
    "\n",
    "X_chimp = cv.fit_transform(chimp_texts)"
   ]
  },
  {
   "cell_type": "code",
   "execution_count": 29,
   "metadata": {},
   "outputs": [
    {
     "name": "stdout",
     "output_type": "stream",
     "text": [
      "(1682, 229684)\n"
     ]
    }
   ],
   "source": [
    "print(X_chimp.shape)"
   ]
  },
  {
   "cell_type": "code",
   "execution_count": 34,
   "metadata": {},
   "outputs": [
    {
     "data": {
      "text/plain": [
       "<matplotlib.axes._subplots.AxesSubplot at 0x1b336a93e48>"
      ]
     },
     "execution_count": 34,
     "metadata": {},
     "output_type": "execute_result"
    },
    {
     "data": {
      "image/png": "[encoded data removed]",
      "text/plain": [
       "<Figure size 432x288 with 1 Axes>"
      ]
     },
     "metadata": {
      "needs_background": "light"
     },
     "output_type": "display_data"
    }
   ],
   "source": [
    "## Checking for Balanced dataset\n",
    "\n",
    "chimp_data['class'].value_counts().sort_index().plot.bar()"
   ]
  },
  {
   "cell_type": "markdown",
   "metadata": {},
   "source": [
    "### Train-Test split"
   ]
  },
  {
   "cell_type": "code",
   "execution_count": 35,
   "metadata": {},
   "outputs": [],
   "source": [
    "from sklearn.model_selection import train_test_split"
   ]
  },
  {
   "cell_type": "code",
   "execution_count": 37,
   "metadata": {},
   "outputs": [],
   "source": [
    "X_train, X_test, y_train, y_test = train_test_split(X_chimp, y_chimp, test_size = 0.20, random_state=42)"
   ]
  },
  {
   "cell_type": "code",
   "execution_count": 38,
   "metadata": {},
   "outputs": [
    {
     "name": "stdout",
     "output_type": "stream",
     "text": [
      "(1345, 229684)\n"
     ]
    }
   ],
   "source": [
    "print(X_train.shape)"
   ]
  },
  {
   "cell_type": "code",
   "execution_count": 39,
   "metadata": {},
   "outputs": [
    {
     "name": "stdout",
     "output_type": "stream",
     "text": [
      "(337, 229684)\n"
     ]
    }
   ],
   "source": [
    "print(X_test.shape)"
   ]
  },
  {
   "cell_type": "markdown",
   "metadata": {},
   "source": [
    "## Applying Multinomial Naive Bayes classifier now :"
   ]
  },
  {
   "cell_type": "code",
   "execution_count": 41,
   "metadata": {},
   "outputs": [
    {
     "data": {
      "text/plain": [
       "MultinomialNB(alpha=0.1)"
      ]
     },
     "execution_count": 41,
     "metadata": {},
     "output_type": "execute_result"
    }
   ],
   "source": [
    "from sklearn.naive_bayes import MultinomialNB\n",
    "\n",
    "#taking the valure of alpha as 0.1\n",
    "classifier = MultinomialNB(alpha=0.1)\n",
    "\n",
    "classifier.fit(X_train, y_train)"
   ]
  },
  {
   "cell_type": "markdown",
   "metadata": {},
   "source": [
    "### Prediction now"
   ]
  },
  {
   "cell_type": "code",
   "execution_count": 42,
   "metadata": {},
   "outputs": [],
   "source": [
    "y_pred = classifier.predict(X_test)"
   ]
  },
  {
   "cell_type": "markdown",
   "metadata": {},
   "source": [
    "## Checking Performance of trained model now"
   ]
  },
  {
   "cell_type": "markdown",
   "metadata": {},
   "source": [
    "### Confusion MATRIX"
   ]
  },
  {
   "cell_type": "code",
   "execution_count": 43,
   "metadata": {},
   "outputs": [
    {
     "name": "stdout",
     "output_type": "stream",
     "text": [
      "Confusion matrix\n",
      "\n",
      "Predicted   0   1   2   3   4   5    6\n",
      "Actual                                \n",
      "0          27   0   0   0   0   0    1\n",
      "1           0  38   0   0   0   0    1\n",
      "2           0   0  25   0   0   0    2\n",
      "3           0   0   0  41   0   0    2\n",
      "4           2   1   0   3  40   0    6\n",
      "5           3   0   0   0   3  19    4\n",
      "6           0   0   0   1   0   0  118\n"
     ]
    }
   ],
   "source": [
    "print(\"Confusion matrix\\n\")\n",
    "\n",
    "print(pd.crosstab(pd.Series(y_test, name='Actual'), pd.Series(y_pred, name='Predicted')))"
   ]
  },
  {
   "cell_type": "markdown",
   "metadata": {},
   "source": [
    "### Accuracy --- Precision --- Recall --- F-score"
   ]
  },
  {
   "cell_type": "code",
   "execution_count": 45,
   "metadata": {},
   "outputs": [
    {
     "name": "stdout",
     "output_type": "stream",
     "text": [
      "accuracy = 0.914 \n",
      "precision = 0.920 \n",
      "recall = 0.914 \n",
      "f1 = 0.911\n"
     ]
    }
   ],
   "source": [
    "from sklearn.metrics import accuracy_score, f1_score, precision_score, recall_score\n",
    "\n",
    "def get_metrics(y_test, y_predicted):\n",
    "    accuracy = accuracy_score(y_test, y_predicted)\n",
    "    precision = precision_score(y_test, y_predicted, average='weighted')\n",
    "    recall = recall_score(y_test, y_predicted, average='weighted')\n",
    "    f1 = f1_score(y_test, y_predicted, average='weighted')\n",
    "    return accuracy, precision, recall, f1\n",
    "accuracy, precision, recall, f1 = get_metrics(y_test, y_pred)\n",
    "print(\"accuracy = %.3f \\nprecision = %.3f \\nrecall = %.3f \\nf1 = %.3f\" % (accuracy, precision, recall, f1))"
   ]
  },
  {
   "cell_type": "code",
   "execution_count": null,
   "metadata": {},
   "outputs": [],
   "source": []
  }
 ],
 "metadata": {
  "kernelspec": {
   "display_name": "Python 3",
   "language": "python",
   "name": "python3"
  },
  "language_info": {
   "codemirror_mode": {
    "name": "ipython",
    "version": 3
   },
   "file_extension": ".py",
   "mimetype": "text/x-python",
   "name": "python",
   "nbconvert_exporter": "python",
   "pygments_lexer": "ipython3",
   "version": "3.7.0"
  }
 },
 "nbformat": 4,
 "nbformat_minor": 2
}
